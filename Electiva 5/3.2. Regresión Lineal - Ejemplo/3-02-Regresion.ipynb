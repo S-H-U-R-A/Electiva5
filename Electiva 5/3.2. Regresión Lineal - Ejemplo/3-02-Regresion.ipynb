{
 "cells": [
  {
   "cell_type": "markdown",
   "metadata": {},
   "source": [
    "**SERGIO RODRIGUEZ BAUTISTA - SANDY ATENCIO HERNANDEZ**"
   ]
  },
  {
   "cell_type": "code",
   "execution_count": 1,
   "metadata": {},
   "outputs": [],
   "source": [
    "from sklearn.datasets import load_boston\n",
    "from sklearn.linear_model import LinearRegression\n",
    "from sklearn.model_selection import train_test_split"
   ]
  },
  {
   "cell_type": "markdown",
   "metadata": {},
   "source": [
    "**Explique la celda anterior**\n",
    "\n",
    "se importan librerias de maching learning de la biblioteca sklearn"
   ]
  },
  {
   "cell_type": "code",
   "execution_count": 5,
   "metadata": {},
   "outputs": [
    {
     "name": "stdout",
     "output_type": "stream",
     "text": [
      "(506, 13)\n"
     ]
    }
   ],
   "source": [
    "boston = load_boston()\n",
    "boston.data.shape"
   ]
  },
  {
   "cell_type": "markdown",
   "metadata": {},
   "source": [
    "**Explique la celda anterior**\n",
    "\n",
    "En la variable boston se carga un dataset de ejemplo que proporciona la libreria sklearn, seguido de esto con la funcion shape se verifica la cantidad de datos del dataset. "
   ]
  },
  {
   "cell_type": "code",
   "execution_count": 7,
   "metadata": {},
   "outputs": [
    {
     "data": {
      "text/plain": [
       "0.7532532966268923"
      ]
     },
     "execution_count": 7,
     "metadata": {},
     "output_type": "execute_result"
    }
   ],
   "source": [
    "X_train, X_test, Y_train, Y_test = train_test_split(boston.data, boston.target, test_size=0.1)\n",
    "lr = LinearRegression(normalize=True)\n",
    "lr.fit(X_train, Y_train)\n",
    "LinearRegression(copy_X=True, fit_intercept=True, n_jobs=1, normalize=True)\n",
    "lr.score(X_test, Y_test)"
   ]
  },
  {
   "cell_type": "markdown",
   "metadata": {},
   "source": [
    "**Explique la celda anterior**\n",
    "\n",
    "Se separan los datos mediante la funcion train_test_split en datos de entrenamiento y prueba del algoritmo ademas para la prueba se deja el 10%. seguidamente se llama el método LinearRegression que representa el algoritmo a usar y como parametro se le pasa indica que use la normalización en true para optimizar los coeficientes de determinación. Luego haciendo uso del metod fit se entrena el conjunto de dato.\n",
    "Se llama al metodo linear regresion con los parametros: copy_x que indica que la X que se pasa como parametro sera la misma despues de realizar el ajuste, la opcion fit_intercept en true es el valor de la intercepcion para el calculo, es decir que esten que los datos esten centrados, n-jobs  por su parte indica el numero de procesos de nucleo del sistema que algoritmo usará,  asi mismo normalize  optimizará los coeficientes de determinación.\n",
    "Por ultimo al usar la funcion score con los X & Y de verificación se calcula la precisión del algoritmo calculando la estadistica del R al cuadrado que indica que tan buena es la aproximación del metodo."
   ]
  },
  {
   "cell_type": "code",
   "execution_count": null,
   "metadata": {},
   "outputs": [],
   "source": []
  }
 ],
 "metadata": {
  "kernelspec": {
   "display_name": "Python 3",
   "language": "python",
   "name": "python3"
  },
  "language_info": {
   "codemirror_mode": {
    "name": "ipython",
    "version": 3
   },
   "file_extension": ".py",
   "mimetype": "text/x-python",
   "name": "python",
   "nbconvert_exporter": "python",
   "pygments_lexer": "ipython3",
   "version": "3.7.3"
  }
 },
 "nbformat": 4,
 "nbformat_minor": 2
}
