{
 "cells": [
  {
   "cell_type": "markdown",
   "metadata": {},
   "source": [
    "**SERGIO RODRIGUEZ BAUTISTA - SANDY ATENCIO HERNANDEZ**"
   ]
  },
  {
   "cell_type": "code",
   "execution_count": 2,
   "metadata": {},
   "outputs": [],
   "source": [
    "import pickle\n",
    "import numpy as np\n",
    "from sklearn import linear_model\n",
    "import sklearn.metrics as sm\n",
    "import matplotlib.pyplot as plt"
   ]
  },
  {
   "cell_type": "markdown",
   "metadata": {},
   "source": [
    "**Explique la anterior celda**\n",
    "\n",
    "\n",
    "Importamos las librerias matematicas, para hacer graficas, para trabajar con archivos  de textos y librerias de maching learning"
   ]
  },
  {
   "cell_type": "code",
   "execution_count": 3,
   "metadata": {},
   "outputs": [],
   "source": [
    "inputfile = 'RegressionSingleVar.txt'\n",
    "data = np.loadtxt(inputfile, delimiter=',')\n",
    "X,y = data[:,:-1], data[:,-1]"
   ]
  },
  {
   "cell_type": "markdown",
   "metadata": {},
   "source": [
    "**Explique la anterior celda**\n",
    "\n",
    "inpufile hace referencia al dataset contenido en un archivo de texto, en data se carga y se almacena contenido del archivo de texto convirtiendolo en un arreglo, posteriormente en las variables X,y se almacena la division del arreglo anterior asignando la primera posicion de cada elemento a X y la segunda a y"
   ]
  },
  {
   "cell_type": "code",
   "execution_count": 4,
   "metadata": {},
   "outputs": [],
   "source": [
    "num_training = int(0.8*len(X))\n",
    "num_test = len(X) - num_training\n",
    "X_train, y_train = X[:num_training], y[:num_training]\n",
    "X_test, y_test = X[num_training:], y[num_training:]"
   ]
  },
  {
   "cell_type": "markdown",
   "metadata": {},
   "source": [
    "**Explique la anterior celda**\n",
    "\n",
    "num_training es una variable que almacena el 80% de la longuitud del arreglo X, num_test calcula la longuitud del arreglo para la prueba de verificacion haciendo la resta del tamaño del arreglo principal menos el tamaño del arreglo con el que se va a entrenar, posteriormente X_train y y_train contienen los datos de X y Y hasta el 80% y en X_test, y_test el 20% restante"
   ]
  },
  {
   "cell_type": "code",
   "execution_count": 5,
   "metadata": {},
   "outputs": [],
   "source": [
    "regressor = linear_model.LinearRegression()\n",
    "regressor.fit(X_train, y_train)\n",
    "y_test_pred = regressor.predict(X_test)"
   ]
  },
  {
   "cell_type": "markdown",
   "metadata": {},
   "source": [
    "**Explique la anterior celda**\n",
    "\n",
    "regressor va hacer uso del metodo linearRegression de la libreria de machine learning sklearn, posteriormente al metodo fit se le pasan los datos de entrenamiento tanto para X como para Y. Para finalizar en la variable y_test_pred se le asigna la prediccion de x_test usado para la verificación.\n"
   ]
  },
  {
   "cell_type": "code",
   "execution_count": 6,
   "metadata": {},
   "outputs": [
    {
     "data": {
      "image/png": "[encoded data removed]",
      "text/plain": [
       "<Figure size 432x288 with 1 Axes>"
      ]
     },
     "metadata": {
      "needs_background": "light"
     },
     "output_type": "display_data"
    }
   ],
   "source": [
    "plt.scatter(X_test, y_test, color='green')\n",
    "plt.plot(X_test, y_test_pred, color='black', linewidth=4)\n",
    "plt.xticks((2,4,6))\n",
    "plt.yticks((2,4,6))\n",
    "plt.show()"
   ]
  },
  {
   "cell_type": "markdown",
   "metadata": {},
   "source": [
    "**Explique la anterior celda**\n",
    "\n",
    "Primero al llamar al metodo scatter esta creado una grafica de dispersion  en la cual recibe los puntos de X & Y, seguido de esto con el metodo plot se dibuja la función que se predice, xticks y yticks vacios significa que tanto en el eje X & Y no van a haber labels, por ultimo se llamala funcion show que muestra la grafica.\n"
   ]
  }
 ],
 "metadata": {
  "kernelspec": {
   "display_name": "Python 3",
   "language": "python",
   "name": "python3"
  },
  "language_info": {
   "codemirror_mode": {
    "name": "ipython",
    "version": 3
   },
   "file_extension": ".py",
   "mimetype": "text/x-python",
   "name": "python",
   "nbconvert_exporter": "python",
   "pygments_lexer": "ipython3",
   "version": "3.7.3"
  }
 },
 "nbformat": 4,
 "nbformat_minor": 2
}
