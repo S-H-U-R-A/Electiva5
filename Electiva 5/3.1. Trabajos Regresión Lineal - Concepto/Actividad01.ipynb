{
 "cells": [
  {
   "cell_type": "markdown",
   "metadata": {},
   "source": [
    "**INTEGRANTES: SANDY PAOLA ATENCIO, SERGIO ANDRES RODRIGUEZ**"
   ]
  },
  {
   "cell_type": "markdown",
   "metadata": {},
   "source": [
    "**1. Escriba un notebook en Jupyter, usando Python, que calcule la desviación estándar de un conjunto de números leídos desde teclado. Utilice numpy arrays. Explique el algoritmo.**"
   ]
  },
  {
   "cell_type": "code",
   "execution_count": 3,
   "metadata": {},
   "outputs": [
    {
     "name": "stdout",
     "output_type": "stream",
     "text": [
      "Ingrese los valores separados por una coma ',' 5,4,6\n",
      " \n",
      "LA DESVIACIÓN ESTANDAR ES:0.816496580927726\n"
     ]
    }
   ],
   "source": [
    "#PRIMERO SE IMPORTA LA LIBRERIA DE NUMPY\n",
    "import numpy as np;\n",
    "#AHORA SE SOLICITAN LOS VALOSRES AL SUARIO SEPARADOS POR UNA COMA\n",
    "datos = input(\"Ingrese los valores separados por una coma ',' \");\n",
    "#AHORA EN RESULTS SE ASIGNAN LOS DATOS, QUE HAN SIDO DIVIDIDOS Y CONVERTIDOS EN UNA LISTA CON EL METODO SPLIT\n",
    "#TAMBIEN ESTA LISTA MEDIANTE UN CASTEO ESTA ALMACENANDO ENTEROS\n",
    "results = [ int(n) for n in datos.split(\",\")];\n",
    "#SE CONVIERTE LA LISTA EN UN ARREGLO  Y SE ASIGNA A LA VARIABLE _array\n",
    "_array = np.array(results);\n",
    "#PARA FINALIZAR SE IMPRIME EN PANTALLA LA DESVIACION ESTANDAR, MEDIANTE LA MUNCION std() DE NUMPY\n",
    "print (\" \");\n",
    "print( \"LA DESVIACIÓN ESTANDAR ES: \" + str(np.std(_array)) );"
   ]
  },
  {
   "cell_type": "markdown",
   "metadata": {},
   "source": [
    "**2. Escriba un notebook en Jupyter, usando Python, que tome como entrada los valores m, n\n",
    "como el número de filas y columnas de una matriz de números A(arreglo numpy) y n la\n",
    "potencia a la que será elevada la matriz.\n",
    "Posteriormente se leen los (m^2) elementos del arreglo. El programa debe calcular (A^n)\n",
    "Explicar el algoritmo.**\n",
    "\n",
    "\n"
   ]
  },
  {
   "cell_type": "code",
   "execution_count": 11,
   "metadata": {},
   "outputs": [
    {
     "name": "stdout",
     "output_type": "stream",
     "text": [
      "Ingrese la cantidad de filas: 3\n",
      "Ingrese la cantidad de Columnas: 3\n",
      "Ingrese la potencia para elevar la matriz: 3\n",
      "Ingrese el valor para la pareja ordenada (0, 0): 1\n",
      "Ingrese el valor para la pareja ordenada (0, 1): 0\n",
      "Ingrese el valor para la pareja ordenada (0, 2): 1\n",
      "Ingrese el valor para la pareja ordenada (1, 0): 0\n",
      "Ingrese el valor para la pareja ordenada (1, 1): 3\n",
      "Ingrese el valor para la pareja ordenada (1, 2): 0\n",
      "Ingrese el valor para la pareja ordenada (2, 0): 0\n",
      "Ingrese el valor para la pareja ordenada (2, 1): 0\n",
      "Ingrese el valor para la pareja ordenada (2, 2): 0\n",
      " \n",
      "MATRIZ GENERADA: \n",
      "[1, 0, 1]\n",
      "[0, 3, 0]\n",
      "[0, 0, 0]\n",
      " \n",
      "MATRIZ ELEVADA A LA 3: \n",
      "[[ 1  0  1]\n",
      " [ 0 27  0]\n",
      " [ 0  0  0]]\n"
     ]
    }
   ],
   "source": [
    "#PRIMERO SE IMPORTA LA LIBRERIA DE NUMPY\n",
    "import numpy as np;\n",
    "#SE CREA LA LISTA QUE TRABAJARÁ COMO MATRIZ\n",
    "matriz = [];\n",
    "#SE SOLICITAN LOS DATOS  DE CANTIDAD DE FILAS, COLUMNAS Y POTENCIA A ELEVAR LA MATRIZ\n",
    "mFilas    = int(input(\"Ingrese la cantidad de filas: \"));\n",
    "nColumnas = int(input(\"Ingrese la cantidad de Columnas: \"));\n",
    "nPotencia = int(input(\"Ingrese la potencia para elevar la matriz: \"));\n",
    "#SE ASIGNA UNA DIMENSION PARA LA MATRIZ Y SE LLENA EN PRINCIPIO CON VALOR DE 0\n",
    "for i in range(mFilas):\n",
    "    matriz.append([0]*nColumnas);\n",
    "#SE RECORRE LA LISTA-MATRIZ Y EN CADA POSICIÓN SE LE ASIGNA UN VALOR DADO POR EL USUARIO          \n",
    "for i in range(mFilas):\n",
    "    for j in range (nColumnas):\n",
    "        matriz[i][j]= int( input(\"Ingrese el valor para la pareja ordenada (%d, %d): \" % (i,j)));\n",
    "print (\" \");\n",
    "#SE MUESTRA LA MATRIZ CREADA\n",
    "print(\"MATRIZ GENERADA: \");\n",
    "for i in matriz:\n",
    "    print (i);\n",
    "print (\" \");\n",
    "#SE CONVIERTE LA LISTA EN UNA MATRIZ PARA PODERLA ELEVAR, Y SE ASIGNA A LA VARIABLE A\n",
    "A = np.matrix(matriz);\n",
    "#SE IMPRIME LA MATRIZ ELEVADA A LA POTENCIA DADA POR EL USUARIO, \n",
    "#ESTO SI LA MATRIZ ES CUADRADA DE LO CONTRARIO SE LE MUESTRA UN MENSAJE DE ERROR\n",
    "if(mFilas == nColumnas):\n",
    "    print( \"MATRIZ ELEVADA A LA POTENCIA \" + str(nPotencia) + \": \\n\" + str( pow( A, nPotencia) ));\n",
    "else:\n",
    "    print(\"ERROR: SOLO SE PUEDEN CALCULAR LAS POTENCIAS DE MATRICES CUADRADAS.\");\n",
    "\n",
    "\n",
    "\n"
   ]
  },
  {
   "cell_type": "markdown",
   "metadata": {},
   "source": [
    "**3. Escriba un notebook en Jupyter, usando Python, que lea los arreglos A y B, ambos de n\n",
    "dimensiones y los escalares c y d y calcule la combinación lineal C = cA + dB. \n",
    "Grafique los arreglos utilizando matplotlib, los arrays deben ser numpy.**"
   ]
  },
  {
   "cell_type": "code",
   "execution_count": 2,
   "metadata": {},
   "outputs": [
    {
     "name": "stdout",
     "output_type": "stream",
     "text": [
      "Ingrese la cantidad de filas del arreglo A: 2\n",
      "Ingrese la cantidad de columnas del arreglo A: 2\n",
      "Ingrese el valor para la pareja ordenada (0, 0): 1\n",
      "Ingrese el valor para la pareja ordenada (0, 1): 1\n",
      "Ingrese el valor para la pareja ordenada (1, 0): 0\n",
      "Ingrese el valor para la pareja ordenada (1, 1): 1\n",
      "Ingrese la cantidad de filas del arreglo B: 2\n",
      "Ingrese la cantidad de columnas del arreglo B: 2\n",
      "Ingrese el valor para la pareja ordenada (0, 0): 4\n",
      "Ingrese el valor para la pareja ordenada (0, 1): 1\n",
      "Ingrese el valor para la pareja ordenada (1, 0): 5\n",
      "Ingrese el valor para la pareja ordenada (1, 1): 9\n",
      " \n",
      "ARREGLO A GENERADO: \n",
      "[1, 1]\n",
      "[0, 1]\n",
      " \n",
      "ARREGLO B GENERADO: \n",
      "[4, 1]\n",
      "[5, 9]\n",
      " \n",
      "Ingrese el escalar C: 2\n",
      "Ingrese el escalar D: 4\n",
      " \n",
      "LA COMBINACIÖN LINEAL ES: \n",
      "[[18  6]\n",
      " [20 38]]\n"
     ]
    },
    {
     "data": {
      "image/png": "[encoded data removed]",
      "text/plain": [
       "<Figure size 432x288 with 1 Axes>"
      ]
     },
     "metadata": {
      "needs_background": "light"
     },
     "output_type": "display_data"
    },
    {
     "data": {
      "image/png": "[encoded data removed]",
      "text/plain": [
       "<Figure size 432x288 with 1 Axes>"
      ]
     },
     "metadata": {
      "needs_background": "light"
     },
     "output_type": "display_data"
    }
   ],
   "source": [
    "#PRIMERO SE IMPORTA LA LIBRERIA DE NUMPY Y MATPLOTLIB\n",
    "import matplotlib.pyplot as plt;\n",
    "import numpy as np;\n",
    "#SE CREA LA PRIMER LISTA QUE TRABAJARÁ COMO ARREGLO A\n",
    "_arrayA = [];\n",
    "#SE SOLICITAN LOS DATOS  DE CANTIDAD DE FILAS, COLUMNAS\n",
    "mAFilas    = int(input(\"Ingrese la cantidad de filas del arreglo A: \"));\n",
    "nAColumnas = int(input(\"Ingrese la cantidad de columnas del arreglo A: \"));\n",
    "#SE ASIGNA UNA DIMENSION PARA LA MATRIZ Y SE LLENA EN PRINCIPIO CON VALOR DE 0\n",
    "for i in range(mAFilas):\n",
    "    _arrayA.append([0]*nAColumnas);\n",
    "#SE RECORRE LA LISTA-MATRIZ Y EN CADA POSICIÓN SE LE ASIGNA UN VALOR DADO POR EL USUARIO          \n",
    "for i in range(mAFilas):\n",
    "    for j in range (nAColumnas):\n",
    "        _arrayA[i][j]= int( input(\"Ingrese el valor para la pareja ordenada (%d, %d): \" % (i,j)));\n",
    "#SE CREA LA SEGUNDA LISTA QUE TRABAJARÁ COMO ARREGLO B\n",
    "_arrayB = [];\n",
    "#SE SOLICITAN LOS DATOS  DE CANTIDAD DE FILAS, COLUMNAS\n",
    "mBFilas    = int(input(\"Ingrese la cantidad de filas del arreglo B: \"));\n",
    "nBColumnas = int(input(\"Ingrese la cantidad de columnas del arreglo B: \"));\n",
    "#SE ASIGNA UNA DIMENSION PARA LA MATRIZ Y SE LLENA EN PRINCIPIO CON VALOR DE 0\n",
    "for i in range(mBFilas):\n",
    "    _arrayB.append([0]*nBColumnas);\n",
    "#SE RECORRE LA LISTA-MATRIZ Y EN CADA POSICIÓN SE LE ASIGNA UN VALOR DADO POR EL USUARIO          \n",
    "for i in range(mBFilas):\n",
    "    for j in range (nBColumnas):\n",
    "        _arrayB[i][j]= int( input(\"Ingrese el valor para la pareja ordenada (%d, %d): \" % (i,j)));\n",
    "#SE CREAN LOS ARREGLOS A Y B, A PARTIR DE LAS LISTAS ANTERIORES       \n",
    "arregloA = np.array(_arrayA);\n",
    "arregloB = np.array(_arrayB);\n",
    "print (\" \");\n",
    "#SE MUESTRA EL ARREGLO A\n",
    "print(\"ARREGLO A GENERADO: \");\n",
    "for i in _arrayA:\n",
    "    print (i);\n",
    "print (\" \");\n",
    "#SE MUESTRA EL ARREGLO B\n",
    "print(\"ARREGLO B GENERADO: \");\n",
    "for i in _arrayB:\n",
    "    print (i);\n",
    "print (\" \");\n",
    "#SE SOLICITAN LOS VALORES DE LOS ESCALARES C Y D\n",
    "C = int(input('Ingrese el escalar C: '));\n",
    "D = int(input('Ingrese el escalar D: '));\n",
    "print (\" \");\n",
    "#CALCULO DE LA COMBINACION LINEAL\n",
    "combinacionLineal = ( (C*arregloA)+(D*arregloB) );\n",
    "#SE MUESTRA EL VALOR DE LA COMBINACIÓN LINEAL\n",
    "print(\"LA COMBINACIÖN LINEAL ES: \\n\" + str(combinacionLineal) );\n",
    "#SE CREA LA GRAFICA PARA EL ARREGLO A\n",
    "plt.plot(arregloA);\n",
    "plt.xlabel('X');\n",
    "plt.ylabel('Y');\n",
    "plt.title('Arreglo A');\n",
    "#MUESTRA LA GRILLA\n",
    "plt.grid();\n",
    "plt.show();\n",
    "#SE CREA LA GRAFICA PARA EL ARREGLO B\n",
    "plt.plot(arregloB);\n",
    "plt.xlabel('X');\n",
    "plt.ylabel('Y');\n",
    "plt.title('Arreglo B');\n",
    "#MUESTRA LA GRILLA\n",
    "plt.grid();\n",
    "plt.show();\n",
    "\n"
   ]
  }
 ],
 "metadata": {
  "kernelspec": {
   "display_name": "Python 3",
   "language": "python",
   "name": "python3"
  },
  "language_info": {
   "codemirror_mode": {
    "name": "ipython",
    "version": 3
   },
   "file_extension": ".py",
   "mimetype": "text/x-python",
   "name": "python",
   "nbconvert_exporter": "python",
   "pygments_lexer": "ipython3",
   "version": "3.7.3"
  }
 },
 "nbformat": 4,
 "nbformat_minor": 2
}
