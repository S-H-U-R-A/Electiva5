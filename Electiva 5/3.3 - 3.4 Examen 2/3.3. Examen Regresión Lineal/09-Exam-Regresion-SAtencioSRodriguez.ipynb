{
 "cells": [
  {
   "cell_type": "markdown",
   "metadata": {},
   "source": [
    "**SERGIO RODRIGUEZ BAUTISTA - SANDY ATENCIO HERNANDEZ**"
   ]
  },
  {
   "cell_type": "markdown",
   "metadata": {},
   "source": [
    "**1. Describa el dataset.**"
   ]
  },
  {
   "cell_type": "code",
   "execution_count": 28,
   "metadata": {},
   "outputs": [],
   "source": [
    "#SE IMPORTAN LIBRERIAS\n",
    "import sklearn.linear_model as lm;\n",
    "import sklearn.model_selection as ms;\n",
    "import matplotlib.pyplot as plt;\n",
    "import pandas as pd;\n",
    "from   statistics import mode, StatisticsError;\n",
    "import numpy as np;\n",
    "import seaborn as sns;\n",
    "#SE CONFIGURA EL TAMAÑO DEL GRAFICO DE CORRELACIÓN\n",
    "sns.set(rc={'figure.figsize':(14,12)})"
   ]
  },
  {
   "cell_type": "code",
   "execution_count": 4,
   "metadata": {
    "scrolled": true
   },
   "outputs": [
    {
     "name": "stdout",
     "output_type": "stream",
     "text": [
      "Descripción del dataset: \n",
      "\n",
      "        motor screw       pgain       vgain       class\n",
      "count    167   167  167.000000  167.000000  167.000000\n",
      "unique     5     5         NaN         NaN         NaN\n",
      "top        C     A         NaN         NaN         NaN\n",
      "freq      40    42         NaN         NaN         NaN\n",
      "mean     NaN   NaN    4.155689    2.538922    1.389708\n",
      "std      NaN   NaN    1.017770    1.369850    1.559635\n",
      "min      NaN   NaN    3.000000    1.000000    0.131250\n",
      "25%      NaN   NaN    3.000000    1.000000    0.503126\n",
      "50%      NaN   NaN    4.000000    2.000000    0.731254\n",
      "75%      NaN   NaN    5.000000    4.000000    1.259369\n",
      "max      NaN   NaN    6.000000    5.000000    7.100108 \n",
      "\n"
     ]
    }
   ],
   "source": [
    "#SE CARGA EL DATASET SERVO\n",
    "data = pd.read_csv('http://archive.ics.uci.edu/ml/machine-learning-databases/servo/servo.data', delimiter=',', decimal='.', header=None, names=['motor','screw','pgain','vgain','class'] );\n",
    "datos = pd.DataFrame(data);\n",
    "#DESCRIPCIÓN DEL DATASET \n",
    "print('Descripción del dataset: \\n\\n', datos.describe(include='all'), '\\n');"
   ]
  },
  {
   "cell_type": "markdown",
   "metadata": {},
   "source": [
    "**CREADOR**:\n",
    "Karl Ulrich\n",
    "\n",
    "**INFO**:\n",
    "\n",
    "La información es de una simulación de un sistema servo que incluye un servoamplificador, un motor, un tornillo / tuerca de avance y un carro deslizante de algún tipo. Puede haber estado en uno de los ejes de traslación de un robot en el noveno piso del laboratorio de IA. En cualquier caso, el valor de salida es casi seguramente un tiempo de subida, o el tiempo requerido para que el sistema responda a un cambio de paso en un punto de ajuste de posición.\n",
    "\n",
    "**ATRIBUTOS**:\n",
    "\n",
    "1. motor: A, B, C, D, E \n",
    "2. tornillo: A, B, C, D, E \n",
    "3. pgain(GananciaP): 3,4,5,6 \n",
    "4. vgain(GananciaV): 1,2,3,4,5 \n",
    "5. clase: 0.13 a 7.10"
   ]
  },
  {
   "cell_type": "markdown",
   "metadata": {},
   "source": [
    "**2. Calcule, para las variables numéricas, las medidas de tendencia central (media, moda, mediana) y la desviación estándar.**"
   ]
  },
  {
   "cell_type": "code",
   "execution_count": 11,
   "metadata": {},
   "outputs": [
    {
     "name": "stdout",
     "output_type": "stream",
     "text": [
      "\n",
      "GANANCIA P \n",
      "\n",
      "Media: 4.155688622754491\n",
      "Moda:  4\n",
      "Mediana: 4.0\n",
      "Desviación estándar: 1.0177701110003585\n",
      "\n",
      "GANANCIA V \n",
      "\n",
      "Media: 2.538922155688623\n",
      "Moda:  2\n",
      "Mediana: 2.0\n",
      "Desviación estándar: 1.3698496223599352\n",
      "\n",
      "CLASE \n",
      "\n",
      "Media: 1.3897083879041905\n",
      "Moda:  0.5062525\n",
      "Mediana: 0.7312541\n",
      "Desviación estándar: 1.5596351689556234\n"
     ]
    }
   ],
   "source": [
    "print(\"\\nGANANCIA P \\n\");\n",
    "print(\"Media: \"   + str( datos[\"pgain\"].mean()   ) );\n",
    "try:\n",
    "    print('Moda: ', mode(datos[\"pgain\"]));\n",
    "except StatisticsError:\n",
    "    print('Moda: ','No hay una unica moda encontrada en los datos');\n",
    "print(\"Mediana: \" + str( datos[\"pgain\"].median() ) );\n",
    "print(\"Desviación estándar: \" + str( datos[\"pgain\"].std() ) );\n",
    "\n",
    "print(\"\\nGANANCIA V \\n\");\n",
    "print(\"Media: \"   + str( datos[\"vgain\"].mean()   ) );\n",
    "try:\n",
    "    print('Moda: ', mode(datos[\"vgain\"]));\n",
    "except StatisticsError:\n",
    "    print('Moda: ','No hay una unica moda encontrada en los datos');\n",
    "print(\"Mediana: \" + str( datos[\"vgain\"].median() ) );\n",
    "print(\"Desviación estándar: \" + str( datos[\"vgain\"].std() ) );\n",
    "\n",
    "print(\"\\nCLASE \\n\");\n",
    "print(\"Media: \"   + str( datos[\"class\"].mean()  ) );\n",
    "try:\n",
    "    print('Moda: ', mode(datos[\"class\"]));\n",
    "except StatisticsError:\n",
    "    print('Moda: ','No hay una unica moda encontrada en los datos');\n",
    "print(\"Mediana: \" + str( datos[\"class\"].median() ) );\n",
    "print(\"Desviación estándar: \" + str( datos[\"class\"].std() ) );"
   ]
  },
  {
   "cell_type": "markdown",
   "metadata": {},
   "source": [
    "**3. Identifique variables correlacionadas gracias a un diagrama de dispersión.**"
   ]
  },
  {
   "cell_type": "code",
   "execution_count": 35,
   "metadata": {},
   "outputs": [
    {
     "name": "stdout",
     "output_type": "stream",
     "text": [
      "VARIABLES CORRELACIONADAS:\n",
      "\n",
      "          pgain     vgain     class\n",
      "pgain  1.000000  0.812268 -0.598129\n",
      "vgain  0.812268  1.000000 -0.364383\n",
      "class -0.598129 -0.364383  1.000000 \n",
      "\n",
      "\n",
      "DIAGRAMA DE DISPERSIÓN:\n",
      "\n"
     ]
    },
    {
     "data": {
      "image/png": "[encoded data removed]",
      "text/plain": [
       "<Figure size 540x540 with 12 Axes>"
      ]
     },
     "metadata": {},
     "output_type": "display_data"
    }
   ],
   "source": [
    "print('VARIABLES CORRELACIONADAS:\\n');\n",
    "print( datos.corr(), \"\\n\\n\");\n",
    "\n",
    "#OTRA FORMA DE MOSTRAR LA CORRELACION DE LAS VARIABLES\n",
    "#sns.heatmap(datos.corr(), square=True, annot=True);\n",
    "\n",
    "#VARIABLES CORRELACIONADAS MEDIANTE DIAGRAMA DE DISPERSION\n",
    "#sns.pairplot( datos, kind=\"reg\");\n",
    "print('DIAGRAMA DE DISPERSIÓN:\\n');\n",
    "sns.pairplot( datos);\n",
    "\n",
    "#DATOS DE GANANCIA P Y V\n",
    "X = datos.iloc[:,2:4];\n",
    "#DATOS OBJETIVO\n",
    "Y = datos.iloc[:,4]"
   ]
  },
  {
   "cell_type": "markdown",
   "metadata": {},
   "source": [
    "**4. Entrene un modelo de Regresión lineal variando la proporción existente entre los datos de entrenamiento y los datos de prueba.**"
   ]
  },
  {
   "cell_type": "code",
   "execution_count": 14,
   "metadata": {},
   "outputs": [],
   "source": [
    "#SE ENTRENA EL PRIMER MODELO  CON UN 10%  DE VERIFICACIÓN\n",
    "X_train1, X_test1, Y_train1, Y_test1 = ms.train_test_split(X, Y, test_size = 0.1);\n",
    "#SE OPTIMIZAN LOS COEFICIENTES DE DETERMINACIÓN\n",
    "lr1 = lm.LinearRegression(normalize=True);\n",
    "#SE ENTRENA EL MODELO\n",
    "lr1.fit(X_train1, Y_train1);\n",
    "#LA X QUE INGRESA DEBE SER LA MISMA DESPUES DEL AJUSTE, PARA EL CALCULO DE LA INTERCEPCION SE CENTRAN LOS DATOS, \n",
    "#SE ESTABLECE EL NUMERO DE PROCESOS DEL NUCLEOS y SE VUELVE A OPTIMIZAR EL COEFICIENTE DE DETERMINACIÓN\n",
    "lm.LinearRegression(copy_X=True, fit_intercept=True, n_jobs=1, normalize=True);"
   ]
  },
  {
   "cell_type": "code",
   "execution_count": 15,
   "metadata": {},
   "outputs": [],
   "source": [
    "#SE ENTRENA EL SEGUNDO MODELO  CON UN 20%  DE VERIFICACIÓN\n",
    "X_train2, X_test2, Y_train2, Y_test2 = ms.train_test_split(X, Y, test_size = 0.2);\n",
    "#SE OPTIMIZAN LOS COEFICIENTES DE DETERMINACIÓN\n",
    "lr2 = lm.LinearRegression(normalize=True);\n",
    "#SE ENTRENA EL MODELO\n",
    "lr2.fit(X_train2, Y_train2);\n",
    "#LA X QUE INGRESA DEBE SER LA MISMA DESPUES DEL AJUSTE, PARA EL CALCULO DE LA INTERCEPCION SE CENTRAN LOS DATOS, \n",
    "#SE ESTABLECE EL NUMERO DE PROCESOS DEL NUCLEOS y SE VUELVE A OPTIMIZAR EL COEFICIENTE DE DETERMINACIÓN\n",
    "lm.LinearRegression(copy_X=True, fit_intercept=True, n_jobs=1, normalize=True);"
   ]
  },
  {
   "cell_type": "code",
   "execution_count": 16,
   "metadata": {},
   "outputs": [],
   "source": [
    "#SE ENTRENA EL TERCER MODELO  CON UN 30%  DE VERIFICACIÓN\n",
    "X_train3, X_test3, Y_train3, Y_test3 = ms.train_test_split(X, Y, test_size = 0.3);\n",
    "#SE OPTIMIZAN LOS COEFICIENTES DE DETERMINACIÓN\n",
    "lr3 = lm.LinearRegression(normalize=True);\n",
    "#SE ENTRENA EL MODELO\n",
    "lr3.fit(X_train3, Y_train3);\n",
    "#LA X QUE INGRESA DEBE SER LA MISMA DESPUES DEL AJUSTE, PARA EL CALCULO DE LA INTERCEPCION SE CENTRAN LOS DATOS, \n",
    "#SE ESTABLECE EL NUMERO DE PROCESOS DEL NUCLEOS y SE VUELVE A OPTIMIZAR EL COEFICIENTE DE DETERMINACIÓN\n",
    "lm.LinearRegression(copy_X=True, fit_intercept=True, n_jobs=1, normalize=True);\n"
   ]
  },
  {
   "cell_type": "markdown",
   "metadata": {},
   "source": [
    "**5. Evalúe la efectividad de cada uno de los modelos.**"
   ]
  },
  {
   "cell_type": "code",
   "execution_count": 46,
   "metadata": {},
   "outputs": [
    {
     "name": "stdout",
     "output_type": "stream",
     "text": [
      "\n",
      "Efectividad del modelo con un 10% de datos de prueba: 0.2387449813971262\n",
      "Efectividad del modelo con un 20% de datos de prueba: 0.3278024506364783\n",
      "Efectividad del modelo con un 30% de datos de prueba: 0.29461420263146076\n"
     ]
    }
   ],
   "source": [
    "#SE HACE VALIDACIÓN DE LA PREDICCION\n",
    "y_pred = lr1.predict(X_test1);\n",
    "comp1 = pd.DataFrame({'Y-OBJETIVO': Y_test1, 'Y-PRONOSTICADA': y_pred });\n",
    "\n",
    "y_pred2 = lr2.predict(X_test2);\n",
    "comp2 = pd.DataFrame({'Y-OBJETIVO': Y_test2, 'Y-PRONOSTICADA': y_pred2 });\n",
    "\n",
    "y_pred3 = lr3.predict(X_test3);\n",
    "comp3 = pd.DataFrame({'Y-OBJETIVO': Y_test3, 'Y-PRONOSTICADA': y_pred3 });\n",
    "\n",
    "\n",
    "efectividadModelo1 = lr1.score(X_test1, Y_test1);\n",
    "efectividadModelo2 = lr2.score(X_test2, Y_test2);\n",
    "efectividadModelo3 = lr3.score(X_test3, Y_test3);\n",
    "\n",
    "print(\"\\nEfectividad del modelo con un 10% de datos de prueba: \" + str( efectividadModelo1 ) );\n",
    "print(\"Efectividad del modelo con un 20% de datos de prueba: \" + str( efectividadModelo2 ) );\n",
    "print(\"Efectividad del modelo con un 30% de datos de prueba: \" + str( efectividadModelo3 ) );"
   ]
  },
  {
   "cell_type": "markdown",
   "metadata": {},
   "source": [
    "**6. Construya una gráfica que relaciona la cantidad de datos usados para el entrenamiento con la efectividad obtenida para el modelo y describa sus hallazgos.**"
   ]
  },
  {
   "cell_type": "code",
   "execution_count": 47,
   "metadata": {},
   "outputs": [
    {
     "data": {
      "image/png": "[encoded data removed]",
      "text/plain": [
       "<Figure size 720x576 with 1 Axes>"
      ]
     },
     "metadata": {},
     "output_type": "display_data"
    }
   ],
   "source": [
    "#SE CALCULA LA CANTIDAD DE DATOS USADOS PARA EL PRIMER MODELO\n",
    "cantidadDatos1erModelo = len(X.index) - (len(X.index)*10)/100;\n",
    "#SE CALCULA LA CANTIDAD DE DATOS USADOS PARA EL SEGUNDO MODELO\n",
    "cantidadDatos2doModelo = len(X.index) - (len(X.index)*20)/100;\n",
    "#SE CALCULA LA CANTIDAD DE DATOS USADOS PARA EL TERCER MODELO\n",
    "cantidadDatos3erModelo = len(X.index) - (len(X.index)*30)/100;\n",
    "\n",
    "# configurando el tamaño de la figura\n",
    "plt.figure( figsize=(10, 8) );\n",
    "\n",
    "plt.bar(cantidadDatos1erModelo, efectividadModelo1, facecolor='#9999ff', edgecolor='white',width=2, label='MODELO-1' );\n",
    "plt.bar(cantidadDatos2doModelo, efectividadModelo2, facecolor='red', edgecolor='white',width=2, label='MODELO-2');\n",
    "plt.bar(cantidadDatos3erModelo, efectividadModelo3, facecolor='green', edgecolor='white',width=2, label='MODELO-3');\n",
    "\n",
    "plt.title('Modelos entrenados');\n",
    "plt.xlabel('Cantidad de datos');\n",
    "plt.ylabel('Efectividad');\n",
    "plt.legend(loc='best')\n",
    "plt.show();"
   ]
  },
  {
   "cell_type": "markdown",
   "metadata": {},
   "source": [
    "**Con la grafica de barras creada se puede observar la relacion entre la cantidad de datos usados por cada modelo de entrenamiento y su eficiencia. Por otra parte se puede ver que el modelo de regresion lineal no genera una efectividad muy alta, pero de igual forma se evidencia que el modelo mas efectivo fue el usado con un 20% de los datos usados en la verificación.**\n",
    "\n",
    "**¡OJO SI SE VUELVE A EJECUTAR LA FUNCION \" train_test_split() \" EN CADA MODELO ES CLARO QUE LA EFECTIVIDAD DE CADA UNO VA CAMBIAR!**"
   ]
  }
 ],
 "metadata": {
  "kernelspec": {
   "display_name": "Python 3",
   "language": "python",
   "name": "python3"
  },
  "language_info": {
   "codemirror_mode": {
    "name": "ipython",
    "version": 3
   },
   "file_extension": ".py",
   "mimetype": "text/x-python",
   "name": "python",
   "nbconvert_exporter": "python",
   "pygments_lexer": "ipython3",
   "version": "3.7.3"
  }
 },
 "nbformat": 4,
 "nbformat_minor": 2
}
